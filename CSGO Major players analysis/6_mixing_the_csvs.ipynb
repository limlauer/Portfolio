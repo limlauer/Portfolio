{
 "cells": [
  {
   "cell_type": "markdown",
   "metadata": {},
   "source": [
    "salida.csv and final_individual_stats.csv"
   ]
  },
  {
   "cell_type": "code",
   "execution_count": 37,
   "metadata": {},
   "outputs": [],
   "source": [
    "import pandas as pd"
   ]
  },
  {
   "cell_type": "code",
   "execution_count": 38,
   "metadata": {},
   "outputs": [
    {
     "name": "stdout",
     "output_type": "stream",
     "text": [
      "       name     idevent  Player ID  event_ID  Kills  Deaths  Kill / Death  \\\n",
      "0     fitch  10052;3247      10052      3247     52      91          0.57   \n",
      "1     fitch  10052;3883      10052      3883    102     139          0.73   \n",
      "2     HooXi  10096;4866      10096      4866    134     162          0.83   \n",
      "3     HooXi  10096;6793      10096      6793     88     134          0.66   \n",
      "4  xccurate  10263;3564      10263      3564     72      73          0.99   \n",
      "\n",
      "   Kill / Round  Rounds with kills  Kill - Death difference  ...  \\\n",
      "0          0.40                 36                      -39  ...   \n",
      "1          0.55                 69                      -37  ...   \n",
      "2          0.57                 91                      -28  ...   \n",
      "3          0.45                 66                      -46  ...   \n",
      "4          0.73                 48                       -1  ...   \n",
      "\n",
      "   3 kill rounds  4 kill rounds  5 kill rounds  Rifle kills Sniper kills  \\\n",
      "0              3              1              0           39            2   \n",
      "1              5              2              0           68            0   \n",
      "2              7              1              1          100            5   \n",
      "3              2              0              0           62            0   \n",
      "4              3              1              0           15           37   \n",
      "\n",
      "  SMG kills  Pistol kills  Grenade  Other  \\\n",
      "0         5             6        0      0   \n",
      "1         8            24        2      0   \n",
      "2        10            18        1      0   \n",
      "3         6            17        3      1   \n",
      "4         4            14        1      1   \n",
      "\n",
      "                                          Event link  \n",
      "0  https://www.hltv.org/stats/players/individual/...  \n",
      "1  https://www.hltv.org/stats/players/individual/...  \n",
      "2  https://www.hltv.org/stats/players/individual/...  \n",
      "3  https://www.hltv.org/stats/players/individual/...  \n",
      "4  https://www.hltv.org/stats/players/individual/...  \n",
      "\n",
      "[5 rows x 29 columns]\n",
      "       name nationality         team  maps  rounds  KD-diff    KD  rating  \\\n",
      "0     ZywOo      France     Vitality    10     277       92  1.60    1.39   \n",
      "1        iM     Romania  GamerLegion    12     306       68  1.34    1.35   \n",
      "2     Spinx      Israel     Vitality    10     277       50  1.30    1.24   \n",
      "3       NAF      Canada       Liquid     9     245       32  1.22    1.24   \n",
      "4  YEKINDAR      Latvia       Liquid     9     245       30  1.19    1.20   \n",
      "\n",
      "                       event  event_ID  ... 3 kill rounds  4 kill rounds  \\\n",
      "0  BLAST.tv Paris Major 2023      6793  ...          13.0            0.0   \n",
      "1  BLAST.tv Paris Major 2023      6793  ...          12.0            3.0   \n",
      "2  BLAST.tv Paris Major 2023      6793  ...           5.0            1.0   \n",
      "3  BLAST.tv Paris Major 2023      6793  ...           5.0            2.0   \n",
      "4  BLAST.tv Paris Major 2023      6793  ...           5.0            2.0   \n",
      "\n",
      "  5 kill rounds Rifle kills  Sniper kills  SMG kills  Pistol kills  Grenade  \\\n",
      "0           1.0        71.0          62.0        0.0          26.0      1.0   \n",
      "1           0.0       175.0           0.0        4.0          28.0      1.0   \n",
      "2           0.0       114.0           0.0        3.0          16.0      2.0   \n",
      "3           0.0       145.0           2.0        6.0          28.0      0.0   \n",
      "4           0.0       115.0           6.0        7.0          18.0      6.0   \n",
      "\n",
      "   Other                                         Event link  \n",
      "0    1.0  https://www.hltv.org/stats/players/individual/...  \n",
      "1    1.0  https://www.hltv.org/stats/players/individual/...  \n",
      "2    0.0  https://www.hltv.org/stats/players/individual/...  \n",
      "3    3.0  https://www.hltv.org/stats/players/individual/...  \n",
      "4    0.0  https://www.hltv.org/stats/players/individual/...  \n",
      "\n",
      "[5 rows x 41 columns]\n"
     ]
    }
   ],
   "source": [
    "df2 = pd.read_csv('salida.csv') \n",
    "df = pd.read_csv('final_individual_stats.csv') \n",
    "print(df.head())\n",
    "print(df2.head())"
   ]
  },
  {
   "cell_type": "code",
   "execution_count": 39,
   "metadata": {},
   "outputs": [
    {
     "data": {
      "text/plain": [
       "True"
      ]
     },
     "execution_count": 39,
     "metadata": {},
     "output_type": "execute_result"
    }
   ],
   "source": [
    "pd.set_option('display.max_rows', None)\n",
    "sorted(df['event_ID'].unique()) == sorted(df2['event_ID'].unique())"
   ]
  },
  {
   "cell_type": "code",
   "execution_count": 40,
   "metadata": {},
   "outputs": [
    {
     "name": "stdout",
     "output_type": "stream",
     "text": [
      "[1270, 1333, 1444, 1553, 1611, 1617, 1666, 2027, 2062, 2471, 2720, 3247, 3564, 3883, 4443, 4866, 6372, 6586, 6793]\n",
      "[1270, 1333, 1444, 1553, 1611, 1617, 1666, 2027, 2062, 2471, 2720, 3247, 3564, 3883, 4443, 4866, 6372, 6586, 6793]\n"
     ]
    }
   ],
   "source": [
    "print(sorted(df['event_ID'].unique()))\n",
    "print(sorted(df2['event_ID'].unique()))"
   ]
  },
  {
   "cell_type": "code",
   "execution_count": 41,
   "metadata": {},
   "outputs": [
    {
     "name": "stdout",
     "output_type": "stream",
     "text": [
      "Index(['name', 'idevent', 'Player ID', 'event_ID', 'Kills', 'Deaths',\n",
      "       'Kill / Death', 'Kill / Round', 'Rounds with kills',\n",
      "       'Kill - Death difference', 'Total opening kills',\n",
      "       'Total opening deaths', 'Opening kill ratio', 'Opening kill rating',\n",
      "       'Team win percent after first kill', 'First kill in won rounds',\n",
      "       '0 kill rounds', '1 kill rounds', '2 kill rounds', '3 kill rounds',\n",
      "       '4 kill rounds', '5 kill rounds', 'Rifle kills', 'Sniper kills',\n",
      "       'SMG kills', 'Pistol kills', 'Grenade', 'Other', 'Event link'],\n",
      "      dtype='object')\n",
      "Index(['name', 'nationality', 'team', 'maps', 'rounds', 'KD-diff', 'KD',\n",
      "       'rating', 'event', 'event_ID', 'Full name', 'Player ID', 'Full link',\n",
      "       'name.1', 'Player ID.1', 'event_ID.1', 'Kills', 'Deaths',\n",
      "       'Kill / Death', 'Kill / Round', 'Rounds with kills',\n",
      "       'Kill - Death difference', 'Total opening kills',\n",
      "       'Total opening deaths', 'Opening kill ratio', 'Opening kill rating',\n",
      "       'Team win percent after first kill', 'First kill in won rounds',\n",
      "       '0 kill rounds', '1 kill rounds', '2 kill rounds', '3 kill rounds',\n",
      "       '4 kill rounds', '5 kill rounds', 'Rifle kills', 'Sniper kills',\n",
      "       'SMG kills', 'Pistol kills', 'Grenade', 'Other', 'Event link'],\n",
      "      dtype='object')\n"
     ]
    }
   ],
   "source": [
    "print(df.columns)\n",
    "print(df2.columns)"
   ]
  },
  {
   "cell_type": "code",
   "execution_count": 43,
   "metadata": {},
   "outputs": [],
   "source": [
    "merged_df = df.merge(df2, on=['event_ID', 'Player ID'], how='left')\n",
    "\n",
    "merged_df.to_csv('merged_individual_stats.csv', index=False)"
   ]
  },
  {
   "cell_type": "markdown",
   "metadata": {},
   "source": [
    "After this, everything I had to delete and fix I did in excel."
   ]
  }
 ],
 "metadata": {
  "kernelspec": {
   "display_name": "Python 3",
   "language": "python",
   "name": "python3"
  },
  "language_info": {
   "codemirror_mode": {
    "name": "ipython",
    "version": 3
   },
   "file_extension": ".py",
   "mimetype": "text/x-python",
   "name": "python",
   "nbconvert_exporter": "python",
   "pygments_lexer": "ipython3",
   "version": "3.11.3"
  },
  "orig_nbformat": 4
 },
 "nbformat": 4,
 "nbformat_minor": 2
}
