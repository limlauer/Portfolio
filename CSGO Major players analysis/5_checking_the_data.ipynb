{
 "cells": [
  {
   "cell_type": "markdown",
   "metadata": {},
   "source": [
    "We finally have all our data, I had to clean some of it in Excel, and mix every csv, but it worked."
   ]
  },
  {
   "cell_type": "code",
   "execution_count": 112,
   "metadata": {},
   "outputs": [],
   "source": [
    "import pandas as pd"
   ]
  },
  {
   "cell_type": "code",
   "execution_count": 113,
   "metadata": {},
   "outputs": [
    {
     "data": {
      "text/html": [
       "<div>\n",
       "<style scoped>\n",
       "    .dataframe tbody tr th:only-of-type {\n",
       "        vertical-align: middle;\n",
       "    }\n",
       "\n",
       "    .dataframe tbody tr th {\n",
       "        vertical-align: top;\n",
       "    }\n",
       "\n",
       "    .dataframe thead th {\n",
       "        text-align: right;\n",
       "    }\n",
       "</style>\n",
       "<table border=\"1\" class=\"dataframe\">\n",
       "  <thead>\n",
       "    <tr style=\"text-align: right;\">\n",
       "      <th></th>\n",
       "      <th>name</th>\n",
       "      <th>idevent</th>\n",
       "      <th>Player ID</th>\n",
       "      <th>event_ID</th>\n",
       "      <th>Kills</th>\n",
       "      <th>Deaths</th>\n",
       "      <th>Kill / Death</th>\n",
       "      <th>Kill / Round</th>\n",
       "      <th>Rounds with kills</th>\n",
       "      <th>Kill - Death difference</th>\n",
       "      <th>...</th>\n",
       "      <th>3 kill rounds</th>\n",
       "      <th>4 kill rounds</th>\n",
       "      <th>5 kill rounds</th>\n",
       "      <th>Rifle kills</th>\n",
       "      <th>Sniper kills</th>\n",
       "      <th>SMG kills</th>\n",
       "      <th>Pistol kills</th>\n",
       "      <th>Grenade</th>\n",
       "      <th>Other</th>\n",
       "      <th>Event link</th>\n",
       "    </tr>\n",
       "  </thead>\n",
       "  <tbody>\n",
       "    <tr>\n",
       "      <th>0</th>\n",
       "      <td>fitch</td>\n",
       "      <td>10052;3247</td>\n",
       "      <td>10052</td>\n",
       "      <td>3247</td>\n",
       "      <td>52</td>\n",
       "      <td>91</td>\n",
       "      <td>0.57</td>\n",
       "      <td>0.40</td>\n",
       "      <td>36</td>\n",
       "      <td>-39</td>\n",
       "      <td>...</td>\n",
       "      <td>3</td>\n",
       "      <td>1</td>\n",
       "      <td>0</td>\n",
       "      <td>39</td>\n",
       "      <td>2</td>\n",
       "      <td>5</td>\n",
       "      <td>6</td>\n",
       "      <td>0</td>\n",
       "      <td>0</td>\n",
       "      <td>https://www.hltv.org/stats/players/individual/...</td>\n",
       "    </tr>\n",
       "    <tr>\n",
       "      <th>1</th>\n",
       "      <td>fitch</td>\n",
       "      <td>10052;3883</td>\n",
       "      <td>10052</td>\n",
       "      <td>3883</td>\n",
       "      <td>102</td>\n",
       "      <td>139</td>\n",
       "      <td>0.73</td>\n",
       "      <td>0.55</td>\n",
       "      <td>69</td>\n",
       "      <td>-37</td>\n",
       "      <td>...</td>\n",
       "      <td>5</td>\n",
       "      <td>2</td>\n",
       "      <td>0</td>\n",
       "      <td>68</td>\n",
       "      <td>0</td>\n",
       "      <td>8</td>\n",
       "      <td>24</td>\n",
       "      <td>2</td>\n",
       "      <td>0</td>\n",
       "      <td>https://www.hltv.org/stats/players/individual/...</td>\n",
       "    </tr>\n",
       "    <tr>\n",
       "      <th>2</th>\n",
       "      <td>HooXi</td>\n",
       "      <td>10096;4866</td>\n",
       "      <td>10096</td>\n",
       "      <td>4866</td>\n",
       "      <td>134</td>\n",
       "      <td>162</td>\n",
       "      <td>0.83</td>\n",
       "      <td>0.57</td>\n",
       "      <td>91</td>\n",
       "      <td>-28</td>\n",
       "      <td>...</td>\n",
       "      <td>7</td>\n",
       "      <td>1</td>\n",
       "      <td>1</td>\n",
       "      <td>100</td>\n",
       "      <td>5</td>\n",
       "      <td>10</td>\n",
       "      <td>18</td>\n",
       "      <td>1</td>\n",
       "      <td>0</td>\n",
       "      <td>https://www.hltv.org/stats/players/individual/...</td>\n",
       "    </tr>\n",
       "    <tr>\n",
       "      <th>3</th>\n",
       "      <td>HooXi</td>\n",
       "      <td>10096;6793</td>\n",
       "      <td>10096</td>\n",
       "      <td>6793</td>\n",
       "      <td>88</td>\n",
       "      <td>134</td>\n",
       "      <td>0.66</td>\n",
       "      <td>0.45</td>\n",
       "      <td>66</td>\n",
       "      <td>-46</td>\n",
       "      <td>...</td>\n",
       "      <td>2</td>\n",
       "      <td>0</td>\n",
       "      <td>0</td>\n",
       "      <td>62</td>\n",
       "      <td>0</td>\n",
       "      <td>6</td>\n",
       "      <td>17</td>\n",
       "      <td>3</td>\n",
       "      <td>1</td>\n",
       "      <td>https://www.hltv.org/stats/players/individual/...</td>\n",
       "    </tr>\n",
       "    <tr>\n",
       "      <th>4</th>\n",
       "      <td>xccurate</td>\n",
       "      <td>10263;3564</td>\n",
       "      <td>10263</td>\n",
       "      <td>3564</td>\n",
       "      <td>72</td>\n",
       "      <td>73</td>\n",
       "      <td>0.99</td>\n",
       "      <td>0.73</td>\n",
       "      <td>48</td>\n",
       "      <td>-1</td>\n",
       "      <td>...</td>\n",
       "      <td>3</td>\n",
       "      <td>1</td>\n",
       "      <td>0</td>\n",
       "      <td>15</td>\n",
       "      <td>37</td>\n",
       "      <td>4</td>\n",
       "      <td>14</td>\n",
       "      <td>1</td>\n",
       "      <td>1</td>\n",
       "      <td>https://www.hltv.org/stats/players/individual/...</td>\n",
       "    </tr>\n",
       "  </tbody>\n",
       "</table>\n",
       "<p>5 rows × 29 columns</p>\n",
       "</div>"
      ],
      "text/plain": [
       "       name     idevent  Player ID  event_ID  Kills  Deaths  Kill / Death  \\\n",
       "0     fitch  10052;3247      10052      3247     52      91          0.57   \n",
       "1     fitch  10052;3883      10052      3883    102     139          0.73   \n",
       "2     HooXi  10096;4866      10096      4866    134     162          0.83   \n",
       "3     HooXi  10096;6793      10096      6793     88     134          0.66   \n",
       "4  xccurate  10263;3564      10263      3564     72      73          0.99   \n",
       "\n",
       "   Kill / Round  Rounds with kills  Kill - Death difference  ...  \\\n",
       "0          0.40                 36                      -39  ...   \n",
       "1          0.55                 69                      -37  ...   \n",
       "2          0.57                 91                      -28  ...   \n",
       "3          0.45                 66                      -46  ...   \n",
       "4          0.73                 48                       -1  ...   \n",
       "\n",
       "   3 kill rounds  4 kill rounds  5 kill rounds  Rifle kills Sniper kills  \\\n",
       "0              3              1              0           39            2   \n",
       "1              5              2              0           68            0   \n",
       "2              7              1              1          100            5   \n",
       "3              2              0              0           62            0   \n",
       "4              3              1              0           15           37   \n",
       "\n",
       "  SMG kills  Pistol kills  Grenade  Other  \\\n",
       "0         5             6        0      0   \n",
       "1         8            24        2      0   \n",
       "2        10            18        1      0   \n",
       "3         6            17        3      1   \n",
       "4         4            14        1      1   \n",
       "\n",
       "                                          Event link  \n",
       "0  https://www.hltv.org/stats/players/individual/...  \n",
       "1  https://www.hltv.org/stats/players/individual/...  \n",
       "2  https://www.hltv.org/stats/players/individual/...  \n",
       "3  https://www.hltv.org/stats/players/individual/...  \n",
       "4  https://www.hltv.org/stats/players/individual/...  \n",
       "\n",
       "[5 rows x 29 columns]"
      ]
     },
     "execution_count": 113,
     "metadata": {},
     "output_type": "execute_result"
    }
   ],
   "source": [
    "df = pd.read_csv('6793_players_fixed.csv') # This is the file we saved in the previous notebook\n",
    "df.head()"
   ]
  },
  {
   "cell_type": "code",
   "execution_count": 114,
   "metadata": {},
   "outputs": [
    {
     "data": {
      "text/plain": [
       "name                                  391\n",
       "idevent                              1426\n",
       "Player ID                             392\n",
       "event_ID                               19\n",
       "Kills                                 254\n",
       "Deaths                                212\n",
       "Kill / Death                          127\n",
       "Kill / Round                           70\n",
       "Rounds with kills                     179\n",
       "Kill - Death difference               135\n",
       "Total opening kills                    58\n",
       "Total opening deaths                   57\n",
       "Opening kill ratio                    196\n",
       "Opening kill rating                   106\n",
       "Team win percent after first kill     203\n",
       "First kill in won rounds              253\n",
       "0 kill rounds                         193\n",
       "1 kill rounds                         121\n",
       "2 kill rounds                          60\n",
       "3 kill rounds                          22\n",
       "4 kill rounds                          10\n",
       "5 kill rounds                           4\n",
       "Rifle kills                           204\n",
       "Sniper kills                          121\n",
       "SMG kills                              36\n",
       "Pistol kills                           57\n",
       "Grenade                                12\n",
       "Other                                  13\n",
       "Event link                           1426\n",
       "dtype: int64"
      ]
     },
     "execution_count": 114,
     "metadata": {},
     "output_type": "execute_result"
    }
   ],
   "source": [
    "df.nunique()"
   ]
  },
  {
   "cell_type": "code",
   "execution_count": 115,
   "metadata": {},
   "outputs": [
    {
     "name": "stdout",
     "output_type": "stream",
     "text": [
      "name\n",
      "Lucky    2\n",
      "steel    2\n",
      "Name: Player ID, dtype: int64\n"
     ]
    }
   ],
   "source": [
    "duplicated_names_with_different_ids = df.groupby('name')['Player ID'].nunique()\n",
    "duplicated_names_with_different_ids = duplicated_names_with_different_ids[duplicated_names_with_different_ids > 1]\n",
    "print(duplicated_names_with_different_ids)"
   ]
  },
  {
   "cell_type": "code",
   "execution_count": 116,
   "metadata": {},
   "outputs": [
    {
     "name": "stdout",
     "output_type": "stream",
     "text": [
      "Series([], Name: Player ID, dtype: int64)\n"
     ]
    }
   ],
   "source": [
    "duplicated_names_with_different_ids = df.groupby('idevent')['Player ID'].nunique()\n",
    "duplicated_names_with_different_ids = duplicated_names_with_different_ids[duplicated_names_with_different_ids > 1]\n",
    "print(duplicated_names_with_different_ids)"
   ]
  },
  {
   "cell_type": "code",
   "execution_count": 117,
   "metadata": {},
   "outputs": [],
   "source": [
    "# Perfect, we got our dataset, now let's analyze."
   ]
  },
  {
   "cell_type": "markdown",
   "metadata": {},
   "source": [
    "We can now continue with our analysis!"
   ]
  },
  {
   "cell_type": "markdown",
   "metadata": {},
   "source": [
    "### 4. Who has the most kills"
   ]
  },
  {
   "cell_type": "code",
   "execution_count": 118,
   "metadata": {},
   "outputs": [
    {
     "name": "stdout",
     "output_type": "stream",
     "text": [
      "Player with most kills: dupreeh\n",
      "Player ID: 7398\n",
      "Total kills: 2568\n"
     ]
    }
   ],
   "source": [
    "# Agrupar por 'Player ID' y sumar las kills\n",
    "player_kills = df.groupby('Player ID')['Kills'].sum()\n",
    "\n",
    "# Encontrar el Player ID con la mayor cantidad de kills\n",
    "max_kills_player_id = player_kills.idxmax()\n",
    "\n",
    "# Obtener el nombre y la cantidad de kills del jugador con más kills\n",
    "max_kills_name = df[df['Player ID'] == max_kills_player_id]['name'].iloc[0]\n",
    "max_kills_total = player_kills[max_kills_player_id]\n",
    "\n",
    "print(f\"Player with most kills: {max_kills_name}\")\n",
    "print(f\"Player ID: {max_kills_player_id}\")\n",
    "print(f\"Total kills: {max_kills_total}\")"
   ]
  },
  {
   "cell_type": "markdown",
   "metadata": {},
   "source": [
    "### 5. Who has the least kills"
   ]
  },
  {
   "cell_type": "code",
   "execution_count": 119,
   "metadata": {},
   "outputs": [
    {
     "name": "stdout",
     "output_type": "stream",
     "text": [
      "Player with most kills: robiin\n",
      "Player ID: 7700\n",
      "Total kills: 9\n"
     ]
    }
   ],
   "source": [
    "# Agrupar por 'Player ID' y sumar las kills\n",
    "player_kills = df.groupby('Player ID')['Kills'].sum()\n",
    "\n",
    "# Encontrar el Player ID con la mayor cantidad de kills\n",
    "max_kills_player_id = player_kills.idxmin()\n",
    "\n",
    "# Obtener el nombre y la cantidad de kills del jugador con más kills\n",
    "max_kills_name = df[df['Player ID'] == max_kills_player_id]['name'].iloc[0]\n",
    "max_kills_total = player_kills[max_kills_player_id]\n",
    "\n",
    "print(f\"Player with most kills: {max_kills_name}\")\n",
    "print(f\"Player ID: {max_kills_player_id}\")\n",
    "print(f\"Total kills: {max_kills_total}\")"
   ]
  },
  {
   "cell_type": "markdown",
   "metadata": {},
   "source": [
    "### 6. Who has the most deaths"
   ]
  },
  {
   "cell_type": "code",
   "execution_count": 121,
   "metadata": {},
   "outputs": [
    {
     "name": "stdout",
     "output_type": "stream",
     "text": [
      "Player with most deaths: dupreeh\n",
      "Player ID: 7398\n",
      "Total deaths: 2349\n"
     ]
    }
   ],
   "source": [
    "# Agrupar por 'Player ID' y sumar las kills\n",
    "player_deaths = df.groupby('Player ID')['Deaths'].sum()\n",
    "\n",
    "# Encontrar el Player ID con la mayor cantidad de kills\n",
    "max_deaths_player_id = player_deaths.idxmax()\n",
    "\n",
    "# Obtener el nombre y la cantidad de kills del jugador con más kills\n",
    "max_deaths_name = df[df['Player ID'] == max_deaths_player_id]['name'].iloc[0]\n",
    "max_deaths_total = player_deaths[max_deaths_player_id]\n",
    "\n",
    "print(f\"Player with most deaths: {max_deaths_name}\")\n",
    "print(f\"Player ID: {max_deaths_player_id}\")\n",
    "print(f\"Total deaths: {max_deaths_total}\")"
   ]
  },
  {
   "cell_type": "markdown",
   "metadata": {},
   "source": [
    "### 7. Who are the majors MVPs and what role did they have"
   ]
  },
  {
   "cell_type": "markdown",
   "metadata": {},
   "source": [
    "1. JW — MVP DreamHack Winter 2013 -> AWPer\n",
    "2. PashaBiceps — MVP EMS One Katowice 2014 -> AWPer\n",
    "3. Friberg — MVP ESL One Cologne 2014 -> Rifler\n",
    "4. Happy — MVP DreamHack Winter 2014 -> Rifler\n",
    "5. Olofmeister — MVP ESL One Katowice 2015 -> Rifler\n",
    "6. Flusha — MVP ESL One Cologne 2015 -> Rifler\n",
    "7. KennyS — MVP DreamHack Cluj-Napoca -> AWPer\n",
    "8. Coldzera — MVP MLG Columbus 2016 & ESL One Cologne 2016 -> AWPer\n",
    "9. Kjaerbye — MVP ELEAGUE Major Atlanta 2017 -> Rifler\n",
    "10. AdreN — PGL Major Krakow 2017 MVP -> IGL / Rifler\n",
    "11. Tarik — ELEAGUE Major Boston 2018 MVP -> Rifler\n",
    "12. device — FaceIT Major London 2018 & StarLadder Major Berlin 2019 MVP -> AWPer\n",
    "13. Magisk — IEM Katowice 2019 MVP -> Rifler\n",
    "14. s1mple — PGL Major Stockholm 2021 MVP -> AWPer\n",
    "15. Rain — PGL Major Antwerp 2022 MVP -> Rifler\n",
    "16. Jame — IEM Rio 2022 MVP -> AWPer\n",
    "17. ZywOo — BLAST.tv Paris Major 2023 MVP -> AWPer\n",
    "\n",
    "Source: https://blog.cs.money/en/esports/all-major-mvp-winners-in-csgo-history/"
   ]
  },
  {
   "cell_type": "markdown",
   "metadata": {},
   "source": [
    "### 8. What country has the players with most majors"
   ]
  },
  {
   "cell_type": "code",
   "execution_count": null,
   "metadata": {},
   "outputs": [],
   "source": []
  },
  {
   "cell_type": "markdown",
   "metadata": {},
   "source": [
    "### 9. How did the 'online era' affect players and teams"
   ]
  },
  {
   "cell_type": "code",
   "execution_count": null,
   "metadata": {},
   "outputs": [],
   "source": []
  },
  {
   "cell_type": "markdown",
   "metadata": {},
   "source": [
    "### 10. How did the Ukraine war affect players"
   ]
  },
  {
   "cell_type": "code",
   "execution_count": null,
   "metadata": {},
   "outputs": [],
   "source": []
  },
  {
   "cell_type": "markdown",
   "metadata": {},
   "source": [
    "### 11. Winners of every major"
   ]
  },
  {
   "cell_type": "code",
   "execution_count": null,
   "metadata": {},
   "outputs": [],
   "source": []
  },
  {
   "cell_type": "markdown",
   "metadata": {},
   "source": [
    "### 12. Who has the most majors"
   ]
  },
  {
   "cell_type": "code",
   "execution_count": null,
   "metadata": {},
   "outputs": [],
   "source": []
  },
  {
   "cell_type": "markdown",
   "metadata": {},
   "source": [
    "### 13. Who performed better accross all majors (In total and in average)"
   ]
  },
  {
   "cell_type": "code",
   "execution_count": null,
   "metadata": {},
   "outputs": [],
   "source": []
  },
  {
   "cell_type": "markdown",
   "metadata": {},
   "source": [
    "### 14. Who is the CS:GO GOAT?"
   ]
  }
 ],
 "metadata": {
  "kernelspec": {
   "display_name": "Python 3",
   "language": "python",
   "name": "python3"
  },
  "language_info": {
   "codemirror_mode": {
    "name": "ipython",
    "version": 3
   },
   "file_extension": ".py",
   "mimetype": "text/x-python",
   "name": "python",
   "nbconvert_exporter": "python",
   "pygments_lexer": "ipython3",
   "version": "3.11.3"
  },
  "orig_nbformat": 4
 },
 "nbformat": 4,
 "nbformat_minor": 2
}
