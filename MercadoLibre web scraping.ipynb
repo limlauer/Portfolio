{
 "cells": [
  {
   "cell_type": "code",
   "execution_count": 116,
   "metadata": {},
   "outputs": [],
   "source": [
    "# Import libraries\n",
    "from bs4 import BeautifulSoup\n",
    "import requests\n",
    "import smtplib\n",
    "import time\n",
    "import datetime\n",
    "import csv\n",
    "import os\n",
    "import pandas as pd"
   ]
  },
  {
   "cell_type": "code",
   "execution_count": 119,
   "metadata": {},
   "outputs": [
    {
     "name": "stdout",
     "output_type": "stream",
     "text": [
      "2023-08-12\n",
      "Irobot Roomba I7 Plus Aspiradora Robot Mapeo Vaciado Auto\n",
      "580000.0\n",
      "\n"
     ]
    }
   ],
   "source": [
    "# Website connection\n",
    "URL = \"https://articulo.mercadolibre.com.ar/MLA-835723546-irobot-roomba-i7-plus-aspiradora-robot-mapeo-vaciado-auto-_JM#position=26&search_layout=grid&type=item&tracking_id=e467410a-a3ce-45f7-8464-82a590681287\"\n",
    "\n",
    "HEADERS = {\"User-Agent\": \"Mozilla/5.0 (Windows NT 10.0; Win64; x64) AppleWebKit/537.36 (KHTML, like Gecko) Chrome/115.0.0.0 Safari/537.36\", \"Accept-Encoding\":\"gzip, deflate\", \"Accept\":\"text/html,application/xhtml+xml,application/xml;q=0.9,*/*;q=0.8\", \"DNT\":\"1\",\"Connection\":\"close\", \"Upgrade-Insecure-Requests\":\"1\"}\n",
    "\n",
    "page = requests.get(URL, headers = HEADERS)\n",
    "\n",
    "soup1 = BeautifulSoup(page.content, \"html.parser\")\n",
    "soup2 = BeautifulSoup(soup1.prettify(), \"html.parser\")\n",
    "\n",
    "title = soup2.find(\"h1\", {\"class\": \"ui-pdp-title\"}).get_text().strip()\n",
    "price = soup2.find(\"span\", {\"class\": \"andes-money-amount__fraction\"}).get_text().strip()\n",
    "# reviews don't always show up so let's work around it\n",
    "reviews = soup2.find(\"span\", {\"class\": \"ui-pdp-review__amount\"})\n",
    "\n",
    "if not (type(reviews) == str):\n",
    "    reviews = \"\"\n",
    "else:\n",
    "    reviews = reviews.get_text().strip() \n",
    "    reviews = reviews[1:-1]\n",
    "price = float(price.replace(\".\",\"\"))\n",
    "today = datetime.date.today()\n",
    "\n",
    "print(today)\n",
    "print(title)\n",
    "print(price)\n",
    "print(reviews)\n"
   ]
  },
  {
   "cell_type": "code",
   "execution_count": 120,
   "metadata": {},
   "outputs": [],
   "source": [
    "# First we create the file with the headers and the first row of data\n",
    "header = ['Title', 'Price', 'Date', 'Reviews']\n",
    "data = [title, price, today, reviews]\n",
    "fname = 'MercadolibreScrapedData.csv'\n",
    "with open(fname, 'w', newline = '', encoding = 'UTF8') as f:\n",
    "    writer = csv.writer(f)\n",
    "    writer.writerow(header)\n",
    "    writer.writerow(data)\n"
   ]
  },
  {
   "cell_type": "code",
   "execution_count": 121,
   "metadata": {},
   "outputs": [],
   "source": [
    "# Let's append more data to the csv\n",
    "\n",
    "with open(fname, 'a+', newline = '', encoding = 'UTF8') as f:\n",
    "    writer = csv.writer(f)\n",
    "    writer.writerow(data)"
   ]
  },
  {
   "cell_type": "code",
   "execution_count": null,
   "metadata": {},
   "outputs": [
    {
     "data": {
      "text/html": [
       "<div>\n",
       "<style scoped>\n",
       "    .dataframe tbody tr th:only-of-type {\n",
       "        vertical-align: middle;\n",
       "    }\n",
       "\n",
       "    .dataframe tbody tr th {\n",
       "        vertical-align: top;\n",
       "    }\n",
       "\n",
       "    .dataframe thead th {\n",
       "        text-align: right;\n",
       "    }\n",
       "</style>\n",
       "<table border=\"1\" class=\"dataframe\">\n",
       "  <thead>\n",
       "    <tr style=\"text-align: right;\">\n",
       "      <th></th>\n",
       "      <th>Title</th>\n",
       "      <th>Price</th>\n",
       "      <th>Date</th>\n",
       "      <th>Reviews</th>\n",
       "    </tr>\n",
       "  </thead>\n",
       "  <tbody>\n",
       "    <tr>\n",
       "      <th>0</th>\n",
       "      <td>Irobot Roomba I7 Plus Aspiradora Robot Mapeo V...</td>\n",
       "      <td>580000.0</td>\n",
       "      <td>2023-08-12</td>\n",
       "      <td>3</td>\n",
       "    </tr>\n",
       "    <tr>\n",
       "      <th>1</th>\n",
       "      <td>Irobot Roomba I7 Plus Aspiradora Robot Mapeo V...</td>\n",
       "      <td>580000.0</td>\n",
       "      <td>2023-08-12</td>\n",
       "      <td>3</td>\n",
       "    </tr>\n",
       "  </tbody>\n",
       "</table>\n",
       "</div>"
      ],
      "text/plain": [
       "                                               Title     Price        Date  \\\n",
       "0  Irobot Roomba I7 Plus Aspiradora Robot Mapeo V...  580000.0  2023-08-12   \n",
       "1  Irobot Roomba I7 Plus Aspiradora Robot Mapeo V...  580000.0  2023-08-12   \n",
       "\n",
       "   Reviews  \n",
       "0        3  \n",
       "1        3  "
      ]
     },
     "execution_count": 77,
     "metadata": {},
     "output_type": "execute_result"
    }
   ],
   "source": [
    "# Output:\n",
    "filecwd = f\"{os.getcwd()}\\{fname}\"\n",
    "df = pd.read_csv(f\"{filecwd}\")\n",
    "df"
   ]
  },
  {
   "cell_type": "code",
   "execution_count": 126,
   "metadata": {},
   "outputs": [],
   "source": [
    "def send_mail(title, price, URL):\n",
    "    server = smtplib.SMTP_SSL('smtp.gmail.com',465)\n",
    "    server.ehlo()\n",
    "    #server.starttls()\n",
    "    server.ehlo()\n",
    "    server.login('youremail@gmail.com','yourpassword')\n",
    "    \n",
    "    subject = f\"Super offer! - {price} - {title}\"\n",
    "    body = f\"A product you were tracking dropped below your marked price. Link: {URL}\"\n",
    "   \n",
    "    msg = f\"Subject: {subject}\\n\\n{body}\"\n",
    "    \n",
    "    server.sendmail(\n",
    "        'youremail@gmail.com',\n",
    "        msg\n",
    "    )"
   ]
  },
  {
   "cell_type": "code",
   "execution_count": 122,
   "metadata": {},
   "outputs": [],
   "source": [
    "def check_price():\n",
    "    URL = \"https://articulo.mercadolibre.com.ar/MLA-835723546-irobot-roomba-i7-plus-aspiradora-robot-mapeo-vaciado-auto-_JM#position=26&search_layout=grid&type=item&tracking_id=e467410a-a3ce-45f7-8464-82a590681287\"\n",
    "\n",
    "    HEADERS = {\"User-Agent\": \"Mozilla/5.0 (Windows NT 10.0; Win64; x64) AppleWebKit/537.36 (KHTML, like Gecko) Chrome/115.0.0.0 Safari/537.36\", \"Accept-Encoding\":\"gzip, deflate\", \"Accept\":\"text/html,application/xhtml+xml,application/xml;q=0.9,*/*;q=0.8\", \"DNT\":\"1\",\"Connection\":\"close\", \"Upgrade-Insecure-Requests\":\"1\"}\n",
    "    page = requests.get(URL, headers = HEADERS)\n",
    "    soup1 = BeautifulSoup(page.content, \"html.parser\")\n",
    "    soup2 = BeautifulSoup(soup1.prettify(), \"html.parser\")\n",
    "    title = soup2.find(\"h1\", {\"class\": \"ui-pdp-title\"}).get_text().strip()\n",
    "    price = soup2.find(\"span\", {\"class\": \"andes-money-amount__fraction\"}).get_text().strip()\n",
    "    # reviews don't always show up so let's work around it\n",
    "    reviews = soup2.find(\"span\", {\"class\": \"ui-pdp-review__amount\"})\n",
    "    \n",
    "    if not (type(reviews) == str):\n",
    "        reviews = \"\"\n",
    "    else:\n",
    "        reviews = reviews.get_text().strip() \n",
    "        reviews = reviews[1:-1]\n",
    "    price = float(price.replace(\".\",\"\"))\n",
    "    today = datetime.date.today()\n",
    "    header = ['Title', 'Price', 'Date', 'Reviews']\n",
    "    data = [title, price, today, reviews]\n",
    "    fname = 'MercadolibreScrapedData.csv'\n",
    "    with open(fname, 'a+', newline = '', encoding = 'UTF8') as f:\n",
    "        writer = csv.writer(f)\n",
    "        writer.writerow(data)\n",
    "\n",
    "    if price < 500.000:\n",
    "        send_mail(title, price, URL)"
   ]
  },
  {
   "cell_type": "code",
   "execution_count": 124,
   "metadata": {},
   "outputs": [
    {
     "ename": "KeyboardInterrupt",
     "evalue": "",
     "output_type": "error",
     "traceback": [
      "\u001b[1;31m---------------------------------------------------------------------------\u001b[0m",
      "\u001b[1;31mKeyboardInterrupt\u001b[0m                         Traceback (most recent call last)",
      "Cell \u001b[1;32mIn[124], line 3\u001b[0m\n\u001b[0;32m      1\u001b[0m \u001b[39mwhile\u001b[39;00m(\u001b[39mTrue\u001b[39;00m):\n\u001b[0;32m      2\u001b[0m     check_price()\n\u001b[1;32m----> 3\u001b[0m     time\u001b[39m.\u001b[39;49msleep(\u001b[39m3\u001b[39;49m)\n",
      "\u001b[1;31mKeyboardInterrupt\u001b[0m: "
     ]
    }
   ],
   "source": [
    "while(True):\n",
    "    check_price()\n",
    "    time.sleep(3)"
   ]
  },
  {
   "cell_type": "code",
   "execution_count": 125,
   "metadata": {},
   "outputs": [
    {
     "data": {
      "text/html": [
       "<div>\n",
       "<style scoped>\n",
       "    .dataframe tbody tr th:only-of-type {\n",
       "        vertical-align: middle;\n",
       "    }\n",
       "\n",
       "    .dataframe tbody tr th {\n",
       "        vertical-align: top;\n",
       "    }\n",
       "\n",
       "    .dataframe thead th {\n",
       "        text-align: right;\n",
       "    }\n",
       "</style>\n",
       "<table border=\"1\" class=\"dataframe\">\n",
       "  <thead>\n",
       "    <tr style=\"text-align: right;\">\n",
       "      <th></th>\n",
       "      <th>Title</th>\n",
       "      <th>Price</th>\n",
       "      <th>Date</th>\n",
       "      <th>Reviews</th>\n",
       "    </tr>\n",
       "  </thead>\n",
       "  <tbody>\n",
       "    <tr>\n",
       "      <th>0</th>\n",
       "      <td>Irobot Roomba I7 Plus Aspiradora Robot Mapeo V...</td>\n",
       "      <td>580000.0</td>\n",
       "      <td>2023-08-12</td>\n",
       "      <td>NaN</td>\n",
       "    </tr>\n",
       "    <tr>\n",
       "      <th>1</th>\n",
       "      <td>Irobot Roomba I7 Plus Aspiradora Robot Mapeo V...</td>\n",
       "      <td>580000.0</td>\n",
       "      <td>2023-08-12</td>\n",
       "      <td>NaN</td>\n",
       "    </tr>\n",
       "    <tr>\n",
       "      <th>2</th>\n",
       "      <td>Irobot Roomba I7 Plus Aspiradora Robot Mapeo V...</td>\n",
       "      <td>580000.0</td>\n",
       "      <td>2023-08-12</td>\n",
       "      <td>NaN</td>\n",
       "    </tr>\n",
       "    <tr>\n",
       "      <th>3</th>\n",
       "      <td>Irobot Roomba I7 Plus Aspiradora Robot Mapeo V...</td>\n",
       "      <td>580000.0</td>\n",
       "      <td>2023-08-12</td>\n",
       "      <td>NaN</td>\n",
       "    </tr>\n",
       "    <tr>\n",
       "      <th>4</th>\n",
       "      <td>Irobot Roomba I7 Plus Aspiradora Robot Mapeo V...</td>\n",
       "      <td>580000.0</td>\n",
       "      <td>2023-08-12</td>\n",
       "      <td>NaN</td>\n",
       "    </tr>\n",
       "    <tr>\n",
       "      <th>5</th>\n",
       "      <td>Irobot Roomba I7 Plus Aspiradora Robot Mapeo V...</td>\n",
       "      <td>580000.0</td>\n",
       "      <td>2023-08-12</td>\n",
       "      <td>NaN</td>\n",
       "    </tr>\n",
       "    <tr>\n",
       "      <th>6</th>\n",
       "      <td>Irobot Roomba I7 Plus Aspiradora Robot Mapeo V...</td>\n",
       "      <td>580000.0</td>\n",
       "      <td>2023-08-12</td>\n",
       "      <td>NaN</td>\n",
       "    </tr>\n",
       "    <tr>\n",
       "      <th>7</th>\n",
       "      <td>Irobot Roomba I7 Plus Aspiradora Robot Mapeo V...</td>\n",
       "      <td>580000.0</td>\n",
       "      <td>2023-08-12</td>\n",
       "      <td>NaN</td>\n",
       "    </tr>\n",
       "  </tbody>\n",
       "</table>\n",
       "</div>"
      ],
      "text/plain": [
       "                                               Title     Price        Date  \\\n",
       "0  Irobot Roomba I7 Plus Aspiradora Robot Mapeo V...  580000.0  2023-08-12   \n",
       "1  Irobot Roomba I7 Plus Aspiradora Robot Mapeo V...  580000.0  2023-08-12   \n",
       "2  Irobot Roomba I7 Plus Aspiradora Robot Mapeo V...  580000.0  2023-08-12   \n",
       "3  Irobot Roomba I7 Plus Aspiradora Robot Mapeo V...  580000.0  2023-08-12   \n",
       "4  Irobot Roomba I7 Plus Aspiradora Robot Mapeo V...  580000.0  2023-08-12   \n",
       "5  Irobot Roomba I7 Plus Aspiradora Robot Mapeo V...  580000.0  2023-08-12   \n",
       "6  Irobot Roomba I7 Plus Aspiradora Robot Mapeo V...  580000.0  2023-08-12   \n",
       "7  Irobot Roomba I7 Plus Aspiradora Robot Mapeo V...  580000.0  2023-08-12   \n",
       "\n",
       "   Reviews  \n",
       "0      NaN  \n",
       "1      NaN  \n",
       "2      NaN  \n",
       "3      NaN  \n",
       "4      NaN  \n",
       "5      NaN  \n",
       "6      NaN  \n",
       "7      NaN  "
      ]
     },
     "execution_count": 125,
     "metadata": {},
     "output_type": "execute_result"
    }
   ],
   "source": [
    "# Output:\n",
    "filecwd = f\"{os.getcwd()}\\{fname}\"\n",
    "df = pd.read_csv(f\"{filecwd}\")\n",
    "df"
   ]
  }
 ],
 "metadata": {
  "kernelspec": {
   "display_name": "Python 3",
   "language": "python",
   "name": "python3"
  },
  "language_info": {
   "codemirror_mode": {
    "name": "ipython",
    "version": 3
   },
   "file_extension": ".py",
   "mimetype": "text/x-python",
   "name": "python",
   "nbconvert_exporter": "python",
   "pygments_lexer": "ipython3",
   "version": "3.11.3"
  },
  "orig_nbformat": 4
 },
 "nbformat": 4,
 "nbformat_minor": 2
}
